{
 "cells": [
  {
   "cell_type": "code",
   "execution_count": null,
   "metadata": {},
   "outputs": [],
   "source": [
    "import spikeextractors as se\n",
    "import spiketoolkit as st\n",
    "import spikewidgets as sw\n",
    "import edlio\n",
    "import matplotlib.pyplot as plt\n",
    "import numpy as np\n",
    "%matplotlib notebook"
   ]
  },
  {
   "cell_type": "code",
   "execution_count": null,
   "metadata": {},
   "outputs": [],
   "source": [
    "#ced_file = \"/Users/abuccino/Documents/Data/catalyst/heidelberg/ced/Short_example/M113_C4.smrx\"\n",
    "ced_file = \"D:/CED_example_data/Other example/m365_pt1_590-1190secs-001.smrx\""
   ]
  },
  {
   "cell_type": "markdown",
   "metadata": {},
   "source": [
    "## Load TTL signals and extract triggers"
   ]
  },
  {
   "cell_type": "code",
   "execution_count": null,
   "metadata": {},
   "outputs": [],
   "source": [
    "channel_info = se.CEDRecordingExtractor.get_all_channels_info(ced_file)"
   ]
  },
  {
   "cell_type": "code",
   "execution_count": null,
   "metadata": {},
   "outputs": [],
   "source": [
    "smrx_channels = []\n",
    "for ch, info in channel_info.items():\n",
    "    if 'TTL' in info[\"title\"]:\n",
    "        print(\"Loading\", info[\"title\"])\n",
    "        smrx_channels.append(ch)\n",
    "\n",
    "rec = se.CEDRecordingExtractor(ced_file, smrx_channels)"
   ]
  },
  {
   "cell_type": "code",
   "execution_count": null,
   "metadata": {},
   "outputs": [],
   "source": [
    "traces = rec.get_traces()"
   ]
  },
  {
   "cell_type": "code",
   "execution_count": null,
   "metadata": {},
   "outputs": [],
   "source": [
    "plt.figure()\n",
    "plt.plot(traces.T)"
   ]
  },
  {
   "cell_type": "markdown",
   "metadata": {},
   "source": [
    "### Find rising and falling edges"
   ]
  },
  {
   "cell_type": "code",
   "execution_count": null,
   "metadata": {},
   "outputs": [],
   "source": [
    "ttls = []\n",
    "states = []\n",
    "for tr in traces:\n",
    "    threshold = np.ptp(tr) / 2 + np.min(tr)\n",
    "    crossings = np.array(tr > threshold).astype('int8')\n",
    "    \n",
    "    rising = np.nonzero(np.diff(crossings, 1) > 0)[0]\n",
    "    falling = np.nonzero(np.diff(crossings, 1) < 0)[0]\n",
    "    \n",
    "    ttl = np.concatenate((rising, falling))\n",
    "    sort_order = np.argsort(ttl)\n",
    "    ttl = np.sort(ttl)\n",
    "    state = [1] * len(rising) + [-1] * len(falling)\n",
    "    state = np.array(state)[sort_order]\n",
    "\n",
    "    ttls.append(ttl)\n",
    "    states.append(state)"
   ]
  },
  {
   "cell_type": "code",
   "execution_count": null,
   "metadata": {},
   "outputs": [],
   "source": [
    "# plot \n",
    "for i, tr in enumerate(traces):\n",
    "    fig, ax = plt.subplots()\n",
    "    \n",
    "    ax.plot(tr)\n",
    "    state = states[i]\n",
    "    ttl = ttls[i]\n",
    "    \n",
    "    for t in ttl[state == 1]:\n",
    "        plt.axvline(t, color='r', alpha=0.5)\n",
    "    for t in ttl[state == -1]:\n",
    "        plt.axvline(t, color='g', alpha=0.5)"
   ]
  },
  {
   "cell_type": "markdown",
   "metadata": {},
   "source": [
    "The `Conditions` in the mat files are just the TTLs with rising and falling in the same row:"
   ]
  },
  {
   "cell_type": "code",
   "execution_count": null,
   "metadata": {},
   "outputs": [],
   "source": [
    "conditions = []\n",
    "\n",
    "for ttl, state in zip(ttls, states):\n",
    "    assert len(ttl[state==1]) == len(ttl[state==-1]), \"Different number of rising/falling edges\"\n",
    "    condition = np.zeros((len(ttl[state==1]), 2), dtype='int')\n",
    "    \n",
    "    condition[:, 0] = ttl[state == 1]\n",
    "    condition[:, 1] = ttl[state == -1]\n",
    "    \n",
    "    conditions.append(condition)"
   ]
  },
  {
   "cell_type": "code",
   "execution_count": null,
   "metadata": {},
   "outputs": [],
   "source": [
    "conditions[0]"
   ]
  },
  {
   "cell_type": "markdown",
   "metadata": {},
   "source": [
    "## Save other signals to NWB\n",
    "\n",
    "Non-TTL signals can be saved normally to NWB (note that Keyboard is somehow problematic...).\n",
    "\n",
    "Also we can only load traces with the same sampling frequency in the same extractor."
   ]
  },
  {
   "cell_type": "code",
   "execution_count": null,
   "metadata": {},
   "outputs": [],
   "source": [
    "smrx_channels = []\n",
    "smrx_channels_names = []\n",
    "\n",
    "sampling_rate_limit = 15000\n",
    "\n",
    "for ch, info in channel_info.items():\n",
    "    if 'TTL' not in info[\"title\"] and info[\"title\"] != 'Keyboard':\n",
    "        if info['rate'] > sampling_rate_limit:\n",
    "            print(\"Loading\", info[\"title\"])\n",
    "            smrx_channels.append(ch)\n",
    "            smrx_channels_names.append(info[\"title\"])\n",
    "        else:\n",
    "            print(\"Skipped\", info[\"title\"])\n",
    "            print(info)\n",
    "\n",
    "rec = se.CEDRecordingExtractor(ced_file, smrx_channels)"
   ]
  },
  {
   "cell_type": "code",
   "execution_count": null,
   "metadata": {},
   "outputs": [],
   "source": [
    "sw.plot_timeseries(rec, trange=[20, 30])"
   ]
  },
  {
   "cell_type": "markdown",
   "metadata": {},
   "source": [
    "These can be saved directly as ElectricalSeries to NWB."
   ]
  }
 ],
 "metadata": {
  "kernelspec": {
   "display_name": "Python 3",
   "language": "python",
   "name": "python3"
  },
  "language_info": {
   "codemirror_mode": {
    "name": "ipython",
    "version": 3
   },
   "file_extension": ".py",
   "mimetype": "text/x-python",
   "name": "python",
   "nbconvert_exporter": "python",
   "pygments_lexer": "ipython3",
   "version": "3.8.5"
  }
 },
 "nbformat": 4,
 "nbformat_minor": 4
}
