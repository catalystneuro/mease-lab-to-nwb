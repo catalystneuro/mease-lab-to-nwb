{
 "cells": [
  {
   "cell_type": "code",
   "execution_count": null,
   "metadata": {},
   "outputs": [],
   "source": [
    "%load_ext autoreload\n",
    "%autoreload 2\n",
    "%config Completer.use_jedi = False"
   ]
  },
  {
   "cell_type": "markdown",
   "metadata": {},
   "source": [
    "# Mease lab - CED Converter"
   ]
  },
  {
   "cell_type": "code",
   "execution_count": null,
   "metadata": {},
   "outputs": [],
   "source": [
    "from mease_lab_to_nwb import CEDNWBConverter\n",
    "from pynwb import NWBHDF5IO\n",
    "from nwbwidgets import nwb2widget\n",
    "from pathlib import Path"
   ]
  },
  {
   "cell_type": "code",
   "execution_count": null,
   "metadata": {},
   "outputs": [],
   "source": [
    "# Source data\n",
    "base_path = Path(\n",
    "    \"/home/luiz/storage/taufferconsulting/client_ben/project_heidelberg_gui/heidelberg_data/\"\n",
    ")\n",
    "\n",
    "file_recording = str(base_path / \"CED_example_data/M365/pt1 15 + mech.smrx\")\n",
    "# file_recording = str(base_path / '10minsSpike2Recordingm365/m365_pt1_590-1190secs.smrx')\n",
    "# file_recording = str(base_path / 'CED_example_data/short_example/M113_C4.smrx')\n",
    "\n",
    "source_data = dict(\n",
    "    CEDRecording=dict(file_path=file_recording, smrx_channel_ids=[1, 3]),\n",
    "    CEDStimulus=dict(file_path=file_recording),\n",
    ")\n",
    "\n",
    "# Initialize converter\n",
    "converter = CEDNWBConverter(source_data=source_data)\n",
    "\n",
    "# Get metadata from source data and modify any values you want\n",
    "metadata = converter.get_metadata()\n",
    "metadata[\"NWBFile\"][\"session_description\"] = \"my example conversion\"\n",
    "\n",
    "# Get conversion options and modify any values you want\n",
    "conversion_options = converter.get_conversion_options()\n",
    "conversion_options[\"CEDRecording\"] = dict(stub_test=True)\n",
    "\n",
    "# OPTIONAL - Validate source_data, metadata and conversion_options\n",
    "converter.validate_source(source_data)\n",
    "converter.validate_metadata(metadata)\n",
    "converter.validate_conversion_options(conversion_options)\n",
    "\n",
    "# Run conversion\n",
    "output_file = \"out_example_ced.nwb\"\n",
    "\n",
    "converter.run_conversion(\n",
    "    metadata=metadata,\n",
    "    nwbfile_path=output_file,\n",
    "    save_to_file=True,\n",
    "    overwrite=True,\n",
    "    conversion_options=conversion_options,\n",
    ")"
   ]
  },
  {
   "cell_type": "markdown",
   "metadata": {},
   "source": [
    "## Check NWB file with widgets"
   ]
  },
  {
   "cell_type": "code",
   "execution_count": null,
   "metadata": {},
   "outputs": [],
   "source": [
    "io = NWBHDF5IO(output_file, \"r\")\n",
    "nwbfile = io.read()\n",
    "nwb2widget(nwbfile)"
   ]
  },
  {
   "cell_type": "code",
   "execution_count": null,
   "metadata": {},
   "outputs": [],
   "source": []
  },
  {
   "cell_type": "code",
   "execution_count": null,
   "metadata": {},
   "outputs": [],
   "source": []
  },
  {
   "cell_type": "code",
   "execution_count": null,
   "metadata": {},
   "outputs": [],
   "source": []
  },
  {
   "cell_type": "code",
   "execution_count": null,
   "metadata": {},
   "outputs": [],
   "source": []
  }
 ],
 "metadata": {
  "kernelspec": {
   "display_name": "Python 3.8.5 64-bit ('env_movshon': conda)",
   "language": "python",
   "name": "python38564bitenvmovshonconda86904444310c4a0e8be1c65ba6d14699"
  },
  "language_info": {
   "codemirror_mode": {
    "name": "ipython",
    "version": 3
   },
   "file_extension": ".py",
   "mimetype": "text/x-python",
   "name": "python",
   "nbconvert_exporter": "python",
   "pygments_lexer": "ipython3",
   "version": "3.7.10"
  }
 },
 "nbformat": 4,
 "nbformat_minor": 4
}
